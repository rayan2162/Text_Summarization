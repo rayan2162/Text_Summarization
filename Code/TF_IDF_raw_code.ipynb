{
  "cells": [
    {
      "cell_type": "markdown",
      "metadata": {
        "id": "YQRPuztAJ63t"
      },
      "source": [
        "# **Extractive text summarization from multiple document using TF-IDF method.**\n",
        "\n",
        "\n"
      ]
    },
    {
      "cell_type": "markdown",
      "metadata": {
        "id": "ssoXisy9O58K"
      },
      "source": [
        "## **1. Data Preparation**"
      ]
    },
    {
      "cell_type": "markdown",
      "metadata": {
        "id": "RMJH-OfWKs6F"
      },
      "source": [
        "### 1.1 Text Input/Initialization"
      ]
    },
    {
      "cell_type": "code",
      "execution_count": 14,
      "metadata": {
        "colab": {
          "base_uri": "https://localhost:8080/"
        },
        "id": "xXpANiyWMbD5",
        "outputId": "4c854140-2ef6-4ef0-c533-8de5dcf3d3ea"
      },
      "outputs": [
        {
          "output_type": "stream",
          "name": "stdout",
          "text": [
            "D0 : A breed of venomous snake considered an endangered species in Bangladesh even a decade ago has made a full-fledged comeback in the northern and southeast parts of the country, wreaking havoc on public life.The snake, Russell’s viper or Chandrabora in Bengali vernacular, is the most venomous snake in Bangladesh. A viper’s bite can spread poison throughout the body and cause various physical symptoms, including loss of control of limbs, continuous bleeding, blood clots, nerve damage, paralysis, and kidney damage. Locally say that urbanisation in the northern part of the country nearly wiped out Russell’s viper a decade ago. However, since 2012, people in the countryside of Rajshahi and Chapainawabganj, as well as in the Rajbari, Faridpur, Kushtia and Patuakhali districts, have spotted fully-grown Russell’s vipers and snakelets in their farmland and sometimes, even in their households. Dr Md Abdul Wahed Chowdhury, co-investigator of the Venom Research Centre, Bangladesh, or VRC, has a theory about why this particular breed of snake is proliferating again.\n",
            "D1 : A series of stories have been making rounds on social media, of people dying in different parts of Bangladesh from the bite of the Russell's viper, a venomous snake. In these stories, many circulated by different media outlets, it's claimed that unlike most snakes, this one is hell-bent on biting people and even gives chase to do so. Articles and videos try to establish that the Russell's viper is not native to Bangladesh but is rather slithering its way here from neighbouring countries. Apparently, the snake, which disappeared from the country at one point, has proliferated and is targeting farmers in the fields, and the available antivenoms can barely cure 20 percent of people. So naturally, people are now in fear of getting attacked by the viper. In many areas, monetary rewards are being declared to kill the snake, which has unfortunately led to people beating pythons to death, mistaking them for the viper. Amid this mass panic, it has become imperative to verify such information, as many of the facts being circulated fall in the realm of misinformation.\n",
            "D2 : All health centres and hospitals in Bangladesh have been ordered to stock anti-venom after reports of a surge in snake bites across the country. Health Minister Dr Samanta Lal Sen also urged the public to bring snake bite victims to hospitals as soon as possible. Hospitals in rural Bangladesh have reported an increase in people being bitten by snakes, especially by the Russell's viper, which is found in South Asia. The incidents have been a major topic on Bangladeshi social media in recent weeks. As it feeds on rodents, the Russell's viper is often found near human settlements, and in farmland particularly during harvest season. A 2023 study said about 7,000 people die in Bangladesh every year from snake bites. Most victims survive if treated with anti-venom quickly. The Russell's viper was declared extinct in Bangladesh in 2002 but the species has now returned. Scientists believe the snake, which usually lives found in dry areas, has adapted to different climate conditions, and has now spread to more than 25 districts in Bangladesh.\n",
            "D3 : One of the deadliest snakes on the Indian subcontinent is growing increasingly common in Bangladesh, spurring questions about the country’s preparedness to deal with venomous snakes in general. Russell’s viper (Daboia russelii) is responsible for nearly half of snakebites in neighboring India, but in Bangladesh, where it’s known as chandra bora, it was thought to be an exceedingly rare species for more than a century. That changed in 2013, however, when a flurry of snakebite cases, many of them fatal, began to be reported, with most of those killed farmers working in their fields. A 2018 study recorded 20 deaths due to Russell’s viper bites between 2013 and 2016, and identified reports of bites from this species in 17 of Bangladesh’s 64 districts. It attributed the snake’s “booming” population to improvements in irrigation systems, which allowed farmers to cultivate crops on their fields throughout the year, instead of only for part of the year as previously. That means that rats, the viper’s prey of choice, are also present in the fields year-round, where they feed on the crops.\n",
            "D4 : The deaths caused by the bites of the deadly venomous Russell's Viper, commonly known as 'Chandrabora' in Bangla, are increasing alarmingly in all districts under the Kushtia region, specially, in the districts surrounded by the rivers and farmlands. A viper's bite can spread poison throughout the body and cause various physical symptoms, including loss of control of limbs, continuous bleeding, blood clots, nerve damage, paralysis, and kidney damage.\n"
          ]
        }
      ],
      "source": [
        "D0 = \"A breed of venomous snake considered an endangered species in Bangladesh even a decade ago has made a full-fledged comeback in the northern and southeast parts of the country, wreaking havoc on public life.The snake, Russell’s viper or Chandrabora in Bengali vernacular, is the most venomous snake in Bangladesh. A viper’s bite can spread poison throughout the body and cause various physical symptoms, including loss of control of limbs, continuous bleeding, blood clots, nerve damage, paralysis, and kidney damage. Locally say that urbanisation in the northern part of the country nearly wiped out Russell’s viper a decade ago. However, since 2012, people in the countryside of Rajshahi and Chapainawabganj, as well as in the Rajbari, Faridpur, Kushtia and Patuakhali districts, have spotted fully-grown Russell’s vipers and snakelets in their farmland and sometimes, even in their households. Dr Md Abdul Wahed Chowdhury, co-investigator of the Venom Research Centre, Bangladesh, or VRC, has a theory about why this particular breed of snake is proliferating again.\"\n",
        "\n",
        "D1 = \"A series of stories have been making rounds on social media, of people dying in different parts of Bangladesh from the bite of the Russell's viper, a venomous snake. In these stories, many circulated by different media outlets, it's claimed that unlike most snakes, this one is hell-bent on biting people and even gives chase to do so. Articles and videos try to establish that the Russell's viper is not native to Bangladesh but is rather slithering its way here from neighbouring countries. Apparently, the snake, which disappeared from the country at one point, has proliferated and is targeting farmers in the fields, and the available antivenoms can barely cure 20 percent of people. So naturally, people are now in fear of getting attacked by the viper. In many areas, monetary rewards are being declared to kill the snake, which has unfortunately led to people beating pythons to death, mistaking them for the viper. Amid this mass panic, it has become imperative to verify such information, as many of the facts being circulated fall in the realm of misinformation.\"\n",
        "\n",
        "D2 = \"All health centres and hospitals in Bangladesh have been ordered to stock anti-venom after reports of a surge in snake bites across the country. Health Minister Dr Samanta Lal Sen also urged the public to bring snake bite victims to hospitals as soon as possible. Hospitals in rural Bangladesh have reported an increase in people being bitten by snakes, especially by the Russell's viper, which is found in South Asia. The incidents have been a major topic on Bangladeshi social media in recent weeks. As it feeds on rodents, the Russell's viper is often found near human settlements, and in farmland particularly during harvest season. A 2023 study said about 7,000 people die in Bangladesh every year from snake bites. Most victims survive if treated with anti-venom quickly. The Russell's viper was declared extinct in Bangladesh in 2002 but the species has now returned. Scientists believe the snake, which usually lives found in dry areas, has adapted to different climate conditions, and has now spread to more than 25 districts in Bangladesh.\"\n",
        "\n",
        "D3 = \"One of the deadliest snakes on the Indian subcontinent is growing increasingly common in Bangladesh, spurring questions about the country’s preparedness to deal with venomous snakes in general. Russell’s viper (Daboia russelii) is responsible for nearly half of snakebites in neighboring India, but in Bangladesh, where it’s known as chandra bora, it was thought to be an exceedingly rare species for more than a century. That changed in 2013, however, when a flurry of snakebite cases, many of them fatal, began to be reported, with most of those killed farmers working in their fields. A 2018 study recorded 20 deaths due to Russell’s viper bites between 2013 and 2016, and identified reports of bites from this species in 17 of Bangladesh’s 64 districts. It attributed the snake’s “booming” population to improvements in irrigation systems, which allowed farmers to cultivate crops on their fields throughout the year, instead of only for part of the year as previously. That means that rats, the viper’s prey of choice, are also present in the fields year-round, where they feed on the crops.\"\n",
        "\n",
        "D4 = \"The deaths caused by the bites of the deadly venomous Russell's Viper, commonly known as 'Chandrabora' in Bangla, are increasing alarmingly in all districts under the Kushtia region, specially, in the districts surrounded by the rivers and farmlands. A viper's bite can spread poison throughout the body and cause various physical symptoms, including loss of control of limbs, continuous bleeding, blood clots, nerve damage, paralysis, and kidney damage.\"\n",
        "\n",
        "\n",
        "print('D0 : ' + D0)\n",
        "print('D1 : ' + D1)\n",
        "print('D2 : ' + D2)\n",
        "print('D3 : ' + D3)\n",
        "print('D4 : ' + D4)"
      ]
    },
    {
      "cell_type": "markdown",
      "metadata": {
        "id": "hYBDLxFqPDOJ"
      },
      "source": [
        "### 1.2 Text Pre-processing"
      ]
    },
    {
      "cell_type": "markdown",
      "metadata": {
        "id": "RExV7JIXPlob"
      },
      "source": [
        "#### 1.2.1 Lowercasing Strings"
      ]
    },
    {
      "cell_type": "code",
      "execution_count": 15,
      "metadata": {
        "id": "a_kXQcdwP2Ed"
      },
      "outputs": [],
      "source": [
        "import string"
      ]
    },
    {
      "cell_type": "code",
      "execution_count": 16,
      "metadata": {
        "colab": {
          "base_uri": "https://localhost:8080/"
        },
        "id": "epdVVhGFPHry",
        "outputId": "f0f100b5-c7e3-41a7-df0e-862ab600520d"
      },
      "outputs": [
        {
          "output_type": "stream",
          "name": "stdout",
          "text": [
            "D0 : a breed of venomous snake considered an endangered species in bangladesh even a decade ago has made a full-fledged comeback in the northern and southeast parts of the country, wreaking havoc on public life.the snake, russell’s viper or chandrabora in bengali vernacular, is the most venomous snake in bangladesh. a viper’s bite can spread poison throughout the body and cause various physical symptoms, including loss of control of limbs, continuous bleeding, blood clots, nerve damage, paralysis, and kidney damage. locally say that urbanisation in the northern part of the country nearly wiped out russell’s viper a decade ago. however, since 2012, people in the countryside of rajshahi and chapainawabganj, as well as in the rajbari, faridpur, kushtia and patuakhali districts, have spotted fully-grown russell’s vipers and snakelets in their farmland and sometimes, even in their households. dr md abdul wahed chowdhury, co-investigator of the venom research centre, bangladesh, or vrc, has a theory about why this particular breed of snake is proliferating again.\n",
            "D1 : a series of stories have been making rounds on social media, of people dying in different parts of bangladesh from the bite of the russell's viper, a venomous snake. in these stories, many circulated by different media outlets, it's claimed that unlike most snakes, this one is hell-bent on biting people and even gives chase to do so. articles and videos try to establish that the russell's viper is not native to bangladesh but is rather slithering its way here from neighbouring countries. apparently, the snake, which disappeared from the country at one point, has proliferated and is targeting farmers in the fields, and the available antivenoms can barely cure 20 percent of people. so naturally, people are now in fear of getting attacked by the viper. in many areas, monetary rewards are being declared to kill the snake, which has unfortunately led to people beating pythons to death, mistaking them for the viper. amid this mass panic, it has become imperative to verify such information, as many of the facts being circulated fall in the realm of misinformation.\n",
            "D2 : all health centres and hospitals in bangladesh have been ordered to stock anti-venom after reports of a surge in snake bites across the country. health minister dr samanta lal sen also urged the public to bring snake bite victims to hospitals as soon as possible. hospitals in rural bangladesh have reported an increase in people being bitten by snakes, especially by the russell's viper, which is found in south asia. the incidents have been a major topic on bangladeshi social media in recent weeks. as it feeds on rodents, the russell's viper is often found near human settlements, and in farmland particularly during harvest season. a 2023 study said about 7,000 people die in bangladesh every year from snake bites. most victims survive if treated with anti-venom quickly. the russell's viper was declared extinct in bangladesh in 2002 but the species has now returned. scientists believe the snake, which usually lives found in dry areas, has adapted to different climate conditions, and has now spread to more than 25 districts in bangladesh.\n",
            "D3 : one of the deadliest snakes on the indian subcontinent is growing increasingly common in bangladesh, spurring questions about the country’s preparedness to deal with venomous snakes in general. russell’s viper (daboia russelii) is responsible for nearly half of snakebites in neighboring india, but in bangladesh, where it’s known as chandra bora, it was thought to be an exceedingly rare species for more than a century. that changed in 2013, however, when a flurry of snakebite cases, many of them fatal, began to be reported, with most of those killed farmers working in their fields. a 2018 study recorded 20 deaths due to russell’s viper bites between 2013 and 2016, and identified reports of bites from this species in 17 of bangladesh’s 64 districts. it attributed the snake’s “booming” population to improvements in irrigation systems, which allowed farmers to cultivate crops on their fields throughout the year, instead of only for part of the year as previously. that means that rats, the viper’s prey of choice, are also present in the fields year-round, where they feed on the crops.\n",
            "D4 : the deaths caused by the bites of the deadly venomous russell's viper, commonly known as 'chandrabora' in bangla, are increasing alarmingly in all districts under the kushtia region, specially, in the districts surrounded by the rivers and farmlands. a viper's bite can spread poison throughout the body and cause various physical symptoms, including loss of control of limbs, continuous bleeding, blood clots, nerve damage, paralysis, and kidney damage.\n"
          ]
        }
      ],
      "source": [
        "D0 = D0.lower()\n",
        "D1 = D1.lower()\n",
        "D2 = D2.lower()\n",
        "D3 = D3.lower()\n",
        "D4 = D4.lower()\n",
        "\n",
        "\n",
        "print('D0 : ' + D0)\n",
        "print('D1 : ' + D1)\n",
        "print('D2 : ' + D2)\n",
        "print('D3 : ' + D3)\n",
        "print('D4 : ' + D4)"
      ]
    },
    {
      "cell_type": "markdown",
      "metadata": {
        "id": "vsLXj18yQLBv"
      },
      "source": [
        "#### 1.2.2 Punctuation Remove\n",
        "- Except \".\" (Full stop)\n",
        "- Because later in the process many sentences will be separated form a single string when encountering full stop."
      ]
    },
    {
      "cell_type": "code",
      "execution_count": 17,
      "metadata": {
        "colab": {
          "base_uri": "https://localhost:8080/"
        },
        "id": "TedZBNF4QS79",
        "outputId": "ea128f67-e725-45ea-8256-50150d757759"
      },
      "outputs": [
        {
          "output_type": "stream",
          "name": "stdout",
          "text": [
            "D0 : a breed of venomous snake considered an endangered species in bangladesh even a decade ago has made a fullfledged comeback in the northern and southeast parts of the country wreaking havoc on public life.the snake russell’s viper or chandrabora in bengali vernacular is the most venomous snake in bangladesh. a viper’s bite can spread poison throughout the body and cause various physical symptoms including loss of control of limbs continuous bleeding blood clots nerve damage paralysis and kidney damage. locally say that urbanisation in the northern part of the country nearly wiped out russell’s viper a decade ago. however since 2012 people in the countryside of rajshahi and chapainawabganj as well as in the rajbari faridpur kushtia and patuakhali districts have spotted fullygrown russell’s vipers and snakelets in their farmland and sometimes even in their households. dr md abdul wahed chowdhury coinvestigator of the venom research centre bangladesh or vrc has a theory about why this particular breed of snake is proliferating again.\n",
            "D1 : a series of stories have been making rounds on social media of people dying in different parts of bangladesh from the bite of the russells viper a venomous snake. in these stories many circulated by different media outlets its claimed that unlike most snakes this one is hellbent on biting people and even gives chase to do so. articles and videos try to establish that the russells viper is not native to bangladesh but is rather slithering its way here from neighbouring countries. apparently the snake which disappeared from the country at one point has proliferated and is targeting farmers in the fields and the available antivenoms can barely cure 20 percent of people. so naturally people are now in fear of getting attacked by the viper. in many areas monetary rewards are being declared to kill the snake which has unfortunately led to people beating pythons to death mistaking them for the viper. amid this mass panic it has become imperative to verify such information as many of the facts being circulated fall in the realm of misinformation.\n",
            "D2 : all health centres and hospitals in bangladesh have been ordered to stock antivenom after reports of a surge in snake bites across the country. health minister dr samanta lal sen also urged the public to bring snake bite victims to hospitals as soon as possible. hospitals in rural bangladesh have reported an increase in people being bitten by snakes especially by the russells viper which is found in south asia. the incidents have been a major topic on bangladeshi social media in recent weeks. as it feeds on rodents the russells viper is often found near human settlements and in farmland particularly during harvest season. a 2023 study said about 7000 people die in bangladesh every year from snake bites. most victims survive if treated with antivenom quickly. the russells viper was declared extinct in bangladesh in 2002 but the species has now returned. scientists believe the snake which usually lives found in dry areas has adapted to different climate conditions and has now spread to more than 25 districts in bangladesh.\n",
            "D3 : one of the deadliest snakes on the indian subcontinent is growing increasingly common in bangladesh spurring questions about the country’s preparedness to deal with venomous snakes in general. russell’s viper daboia russelii is responsible for nearly half of snakebites in neighboring india but in bangladesh where it’s known as chandra bora it was thought to be an exceedingly rare species for more than a century. that changed in 2013 however when a flurry of snakebite cases many of them fatal began to be reported with most of those killed farmers working in their fields. a 2018 study recorded 20 deaths due to russell’s viper bites between 2013 and 2016 and identified reports of bites from this species in 17 of bangladesh’s 64 districts. it attributed the snake’s “booming” population to improvements in irrigation systems which allowed farmers to cultivate crops on their fields throughout the year instead of only for part of the year as previously. that means that rats the viper’s prey of choice are also present in the fields yearround where they feed on the crops.\n",
            "D4 : the deaths caused by the bites of the deadly venomous russells viper commonly known as chandrabora in bangla are increasing alarmingly in all districts under the kushtia region specially in the districts surrounded by the rivers and farmlands. a vipers bite can spread poison throughout the body and cause various physical symptoms including loss of control of limbs continuous bleeding blood clots nerve damage paralysis and kidney damage.\n"
          ]
        }
      ],
      "source": [
        "punc = '''!()-[]{};:'\",<>/?@#$%^&*_~'''\n",
        "\n",
        "def remove_punctuation(doc):\n",
        "    result = \"\"\n",
        "    for ele in doc:\n",
        "        if ele not in punc:\n",
        "            result += ele\n",
        "    return result\n",
        "\n",
        "\n",
        "D0 = remove_punctuation(D0)\n",
        "D1 = remove_punctuation(D1)\n",
        "D2 = remove_punctuation(D2)\n",
        "D3 = remove_punctuation(D3)\n",
        "D4 = remove_punctuation(D4)\n",
        "\n",
        "\n",
        "print('D0 : ' + D0)\n",
        "print('D1 : ' + D1)\n",
        "print('D2 : ' + D2)\n",
        "print('D3 : ' + D3)\n",
        "print('D4 : ' + D4)"
      ]
    },
    {
      "cell_type": "markdown",
      "metadata": {
        "id": "jMaf4Ij5UcFR"
      },
      "source": [
        "### 1.3 Matrix Initialization\n",
        "- matrix **[no of documents] [sentence, score]**\n",
        "- Here, score is 0.000000 by default which will be later replaced by score generated by the TF-IDF"
      ]
    },
    {
      "cell_type": "code",
      "execution_count": 18,
      "metadata": {
        "colab": {
          "base_uri": "https://localhost:8080/"
        },
        "id": "xKz06-H6Ua3g",
        "outputId": "cac4e0cc-00af-4ecf-83a3-c1598d7c997b"
      },
      "outputs": [
        {
          "output_type": "stream",
          "name": "stdout",
          "text": [
            "D0 : \n",
            "['a breed of venomous snake considered an endangered species in bangladesh even a decade ago has made a fullfledged comeback in the northern and southeast parts of the country wreaking havoc on public life', 'the snake russell’s viper or chandrabora in bengali vernacular is the most venomous snake in bangladesh', ' a viper’s bite can spread poison throughout the body and cause various physical symptoms including loss of control of limbs continuous bleeding blood clots nerve damage paralysis and kidney damage', ' locally say that urbanisation in the northern part of the country nearly wiped out russell’s viper a decade ago', ' however since 2012 people in the countryside of rajshahi and chapainawabganj as well as in the rajbari faridpur kushtia and patuakhali districts have spotted fullygrown russell’s vipers and snakelets in their farmland and sometimes even in their households', ' dr md abdul wahed chowdhury coinvestigator of the venom research centre bangladesh or vrc has a theory about why this particular breed of snake is proliferating again', '']\n",
            "[0.0, 0.0, 0.0, 0.0, 0.0, 0.0, 0.0]\n",
            "D1 : \n",
            "['a series of stories have been making rounds on social media of people dying in different parts of bangladesh from the bite of the russells viper a venomous snake', ' in these stories many circulated by different media outlets its claimed that unlike most snakes this one is hellbent on biting people and even gives chase to do so', ' articles and videos try to establish that the russells viper is not native to bangladesh but is rather slithering its way here from neighbouring countries', ' apparently the snake which disappeared from the country at one point has proliferated and is targeting farmers in the fields and the available antivenoms can barely cure 20 percent of people', ' so naturally people are now in fear of getting attacked by the viper', ' in many areas monetary rewards are being declared to kill the snake which has unfortunately led to people beating pythons to death mistaking them for the viper', ' amid this mass panic it has become imperative to verify such information as many of the facts being circulated fall in the realm of misinformation', '']\n",
            "[0.0, 0.0, 0.0, 0.0, 0.0, 0.0, 0.0, 0.0]\n",
            "D2 : \n",
            "['all health centres and hospitals in bangladesh have been ordered to stock antivenom after reports of a surge in snake bites across the country', ' health minister dr samanta lal sen also urged the public to bring snake bite victims to hospitals as soon as possible', ' hospitals in rural bangladesh have reported an increase in people being bitten by snakes especially by the russells viper which is found in south asia', ' the incidents have been a major topic on bangladeshi social media in recent weeks', ' as it feeds on rodents the russells viper is often found near human settlements and in farmland particularly during harvest season', ' a 2023 study said about 7000 people die in bangladesh every year from snake bites', ' most victims survive if treated with antivenom quickly', ' the russells viper was declared extinct in bangladesh in 2002 but the species has now returned', ' scientists believe the snake which usually lives found in dry areas has adapted to different climate conditions and has now spread to more than 25 districts in bangladesh', '']\n",
            "[0.0, 0.0, 0.0, 0.0, 0.0, 0.0, 0.0, 0.0, 0.0, 0.0]\n",
            "D3 : \n",
            "['one of the deadliest snakes on the indian subcontinent is growing increasingly common in bangladesh spurring questions about the country’s preparedness to deal with venomous snakes in general', ' russell’s viper daboia russelii is responsible for nearly half of snakebites in neighboring india but in bangladesh where it’s known as chandra bora it was thought to be an exceedingly rare species for more than a century', ' that changed in 2013 however when a flurry of snakebite cases many of them fatal began to be reported with most of those killed farmers working in their fields', ' a 2018 study recorded 20 deaths due to russell’s viper bites between 2013 and 2016 and identified reports of bites from this species in 17 of bangladesh’s 64 districts', ' it attributed the snake’s “booming” population to improvements in irrigation systems which allowed farmers to cultivate crops on their fields throughout the year instead of only for part of the year as previously', ' that means that rats the viper’s prey of choice are also present in the fields yearround where they feed on the crops', '']\n",
            "[0.0, 0.0, 0.0, 0.0, 0.0, 0.0, 0.0]\n",
            "D4 : \n",
            "['the deaths caused by the bites of the deadly venomous russells viper commonly known as chandrabora in bangla are increasing alarmingly in all districts under the kushtia region specially in the districts surrounded by the rivers and farmlands', ' a vipers bite can spread poison throughout the body and cause various physical symptoms including loss of control of limbs continuous bleeding blood clots nerve damage paralysis and kidney damage', '']\n",
            "[0.0, 0.0, 0.0]\n"
          ]
        }
      ],
      "source": [
        "def initialize_matrix_with_sentences(doc):\n",
        "    sentences = doc.split('.')\n",
        "\n",
        "    sentence_row = sentences\n",
        "    decimal_row = [0.000000]*len(sentences)\n",
        "\n",
        "    matrix = [sentence_row, decimal_row]\n",
        "\n",
        "    return matrix\n",
        "\n",
        "\n",
        "MD0 = initialize_matrix_with_sentences(D0)\n",
        "MD1 = initialize_matrix_with_sentences(D1)\n",
        "MD2 = initialize_matrix_with_sentences(D2)\n",
        "MD3 = initialize_matrix_with_sentences(D3)\n",
        "MD4 = initialize_matrix_with_sentences(D4)\n",
        "\n",
        "\n",
        "print('D0 : ')\n",
        "for row in MD0:\n",
        "    print(row)\n",
        "\n",
        "print('D1 : ')\n",
        "for row in MD1:\n",
        "    print(row)\n",
        "\n",
        "print('D2 : ')\n",
        "for row in MD2:\n",
        "    print(row)\n",
        "\n",
        "print('D3 : ')\n",
        "for row in MD3:\n",
        "    print(row)\n",
        "\n",
        "print('D4 : ')\n",
        "for row in MD4:\n",
        "    print(row)"
      ]
    },
    {
      "cell_type": "markdown",
      "metadata": {
        "id": "yJMqQUhzepua"
      },
      "source": [
        "## **2. Calculating TF-IDF Values**\n",
        "- Replacing initial score from 0 to TF-IDF values in the matrix."
      ]
    },
    {
      "cell_type": "code",
      "execution_count": 19,
      "metadata": {
        "id": "f0AZNfIKcsFC"
      },
      "outputs": [],
      "source": [
        "import numpy as np\n",
        "import math\n",
        "from collections import Counter"
      ]
    },
    {
      "cell_type": "markdown",
      "metadata": {
        "id": "bwAGRhCvKs6X"
      },
      "source": [
        "### 2.1 Term Frequency (TF)"
      ]
    },
    {
      "cell_type": "code",
      "execution_count": 20,
      "metadata": {
        "id": "jr8c-OZWKs6Y"
      },
      "outputs": [],
      "source": [
        "# Function to compute Term Frequency (TF) scores for each sentence\n",
        "def compute_tf(sentences):\n",
        "    tf_scores = []\n",
        "    for sentence in sentences:\n",
        "        words = sentence.split()\n",
        "        word_count = len(words)\n",
        "        word_freq = Counter(words)\n",
        "        tf = {word: count / word_count for word, count in word_freq.items()}\n",
        "        tf_scores.append(tf)\n",
        "    return tf_scores"
      ]
    },
    {
      "cell_type": "markdown",
      "metadata": {
        "id": "f4rOrHTUKs6Z"
      },
      "source": [
        "### 2.2 Inverse Document Frequency (IDF):"
      ]
    },
    {
      "cell_type": "code",
      "execution_count": 21,
      "metadata": {
        "id": "RW3BZUVVKs6Z"
      },
      "outputs": [],
      "source": [
        "# Function to compute Inverse Document Frequency (IDF) scores for each word\n",
        "def compute_idf(sentences):\n",
        "     num_sentences = len(sentences)\n",
        "\n",
        "    #Collect all unique words\n",
        "     unique_words = set()\n",
        "     for sentence in sentences:\n",
        "        words = sentence.split()\n",
        "        unique_words.update(words)\n",
        "\n",
        "    # Initialize a dictionary to store IDF scores\n",
        "     idf_scores = {}\n",
        "\n",
        "    # Step 3: Calculate document frequency for each word\n",
        "     for word in unique_words:\n",
        "        doc_count = 0\n",
        "        for sentence in sentences:\n",
        "            if word in sentence.split():\n",
        "                doc_count += 1\n",
        "\n",
        "        # Step 4: Compute IDF using the formula\n",
        "        idf_scores[word] = math.log(num_sentences / (1 + doc_count))\n",
        "\n",
        "     return idf_scores"
      ]
    },
    {
      "cell_type": "markdown",
      "metadata": {
        "id": "a3qHWelxKs6Z"
      },
      "source": [
        "### 2.3 TF-IDF Score Calculation:"
      ]
    },
    {
      "cell_type": "code",
      "execution_count": 22,
      "metadata": {
        "id": "vHV-jOThcaSj"
      },
      "outputs": [],
      "source": [
        "# Function to compute TF-IDF scores for each sentence\n",
        "def compute_tfidf(sentences):\n",
        "    tf_scores = compute_tf(sentences)\n",
        "    idf_scores=compute_idf(sentences)\n",
        "    tfidf_scores = []\n",
        "    for tf in tf_scores:\n",
        "        tfidf = {word: tf[word] * idf_scores[word] for word in tf}\n",
        "        tfidf_scores.append(tfidf)\n",
        "    return tfidf_scores\n",
        "\n",
        "# Function to compute sentence scores using TF-IDF\n",
        "def compute_sentence_scores(sentences):\n",
        "    tfidf_scores = compute_tfidf(sentences)\n",
        "    sentence_scores = [sum(tfidf.values()) for tfidf in tfidf_scores]\n",
        "    return sentence_scores\n",
        "\n",
        "# Function to compute TF-IDF scores for a matrix of documents\n",
        "def compute_tfidf_scores(matrix):\n",
        "    sentences = matrix[0]\n",
        "    sentence_scores = compute_sentence_scores(sentences)\n",
        "    matrix[1] = np.array(sentence_scores)\n",
        "    return matrix"
      ]
    },
    {
      "cell_type": "markdown",
      "source": [
        "### 2.4 Adding Sentence Score"
      ],
      "metadata": {
        "id": "KGGTx62LLbDu"
      }
    },
    {
      "cell_type": "code",
      "source": [
        "result_D0 = compute_tfidf_scores(MD0)\n",
        "result_D1 = compute_tfidf_scores(MD1)\n",
        "result_D2 = compute_tfidf_scores(MD2)\n",
        "result_D3 = compute_tfidf_scores(MD3)\n",
        "result_D4 = compute_tfidf_scores(MD4)\n",
        "\n",
        "# Print TF-IDF scores for each document\n",
        "print('\\033[1m' + '\\033[93m' + 'D0 TF-IDF Scores:' + '\\033[0m')\n",
        "print(result_D0[1])\n",
        "print()\n",
        "\n",
        "print('\\033[1m' + '\\033[93m' + 'D1 TF-IDF Scores:' + '\\033[0m')\n",
        "print(result_D1[1])\n",
        "print()\n",
        "\n",
        "print('\\033[1m' + '\\033[93m' + 'D2 TF-IDF Scores:' + '\\033[0m')\n",
        "print(result_D2[1])\n",
        "print()\n",
        "\n",
        "print('\\033[1m' + '\\033[93m' + 'D3 TF-IDF Scores:' + '\\033[0m')\n",
        "print(result_D3[1])\n",
        "print()\n",
        "\n",
        "print('\\033[1m' + '\\033[93m' + 'D4 TF-IDF Scores:' + '\\033[0m')\n",
        "print(result_D4[1])"
      ],
      "metadata": {
        "colab": {
          "base_uri": "https://localhost:8080/"
        },
        "id": "eOo6QHtQLaEK",
        "outputId": "4a78e5d1-88d0-4323-d6a9-84b9a69584c1"
      },
      "execution_count": 23,
      "outputs": [
        {
          "output_type": "stream",
          "name": "stdout",
          "text": [
            "\u001b[1m\u001b[93mD0 TF-IDF Scores:\u001b[0m\n",
            "[0.82313454 0.70697818 1.06101055 0.82343705 0.95959186 0.97963582\n",
            " 0.        ]\n",
            "\n",
            "\u001b[1m\u001b[93mD1 TF-IDF Scores:\u001b[0m\n",
            "[0.92914126 1.04811423 1.05045099 0.95892239 0.87451628 0.94859432\n",
            " 1.02190033 0.        ]\n",
            "\n",
            "\u001b[1m\u001b[93mD2 TF-IDF Scores:\u001b[0m\n",
            "[1.14021364 1.32353853 1.15640107 1.25445125 1.28745826 1.28241959\n",
            " 1.50807164 1.05687452 1.23200094 0.        ]\n",
            "\n",
            "\u001b[1m\u001b[93mD3 TF-IDF Scores:\u001b[0m\n",
            "[0.9368385  0.98221798 0.86719358 1.00545577 0.89354963 0.90762105\n",
            " 0.        ]\n",
            "\n",
            "\u001b[1m\u001b[93mD4 TF-IDF Scores:\u001b[0m\n",
            "[0.32010403 0.33788759 0.        ]\n"
          ]
        }
      ]
    },
    {
      "cell_type": "markdown",
      "metadata": {
        "id": "7vjVkAmPPJke"
      },
      "source": [
        "## **3. Sentence Scoring and Summary Extraction.**"
      ]
    },
    {
      "cell_type": "markdown",
      "metadata": {
        "id": "Gu_EEhgcKs6b"
      },
      "source": [
        "### 3.1 Merging All Matrices"
      ]
    },
    {
      "cell_type": "code",
      "execution_count": 24,
      "metadata": {
        "colab": {
          "base_uri": "https://localhost:8080/"
        },
        "id": "PUMadr3Pgg0V",
        "outputId": "d5a145f1-b811-4e0e-c623-77d49c039947"
      },
      "outputs": [
        {
          "output_type": "stream",
          "name": "stdout",
          "text": [
            "\u001b[1m\u001b[93mmat : \u001b[0m\n",
            "['a breed of venomous snake considered an endangered species in bangladesh even a decade ago has made a fullfledged comeback in the northern and southeast parts of the country wreaking havoc on public life', 'the snake russell’s viper or chandrabora in bengali vernacular is the most venomous snake in bangladesh', ' a viper’s bite can spread poison throughout the body and cause various physical symptoms including loss of control of limbs continuous bleeding blood clots nerve damage paralysis and kidney damage', ' locally say that urbanisation in the northern part of the country nearly wiped out russell’s viper a decade ago', ' however since 2012 people in the countryside of rajshahi and chapainawabganj as well as in the rajbari faridpur kushtia and patuakhali districts have spotted fullygrown russell’s vipers and snakelets in their farmland and sometimes even in their households', ' dr md abdul wahed chowdhury coinvestigator of the venom research centre bangladesh or vrc has a theory about why this particular breed of snake is proliferating again', '', 'a series of stories have been making rounds on social media of people dying in different parts of bangladesh from the bite of the russells viper a venomous snake', ' in these stories many circulated by different media outlets its claimed that unlike most snakes this one is hellbent on biting people and even gives chase to do so', ' articles and videos try to establish that the russells viper is not native to bangladesh but is rather slithering its way here from neighbouring countries', ' apparently the snake which disappeared from the country at one point has proliferated and is targeting farmers in the fields and the available antivenoms can barely cure 20 percent of people', ' so naturally people are now in fear of getting attacked by the viper', ' in many areas monetary rewards are being declared to kill the snake which has unfortunately led to people beating pythons to death mistaking them for the viper', ' amid this mass panic it has become imperative to verify such information as many of the facts being circulated fall in the realm of misinformation', '', 'all health centres and hospitals in bangladesh have been ordered to stock antivenom after reports of a surge in snake bites across the country', ' health minister dr samanta lal sen also urged the public to bring snake bite victims to hospitals as soon as possible', ' hospitals in rural bangladesh have reported an increase in people being bitten by snakes especially by the russells viper which is found in south asia', ' the incidents have been a major topic on bangladeshi social media in recent weeks', ' as it feeds on rodents the russells viper is often found near human settlements and in farmland particularly during harvest season', ' a 2023 study said about 7000 people die in bangladesh every year from snake bites', ' most victims survive if treated with antivenom quickly', ' the russells viper was declared extinct in bangladesh in 2002 but the species has now returned', ' scientists believe the snake which usually lives found in dry areas has adapted to different climate conditions and has now spread to more than 25 districts in bangladesh', '', 'one of the deadliest snakes on the indian subcontinent is growing increasingly common in bangladesh spurring questions about the country’s preparedness to deal with venomous snakes in general', ' russell’s viper daboia russelii is responsible for nearly half of snakebites in neighboring india but in bangladesh where it’s known as chandra bora it was thought to be an exceedingly rare species for more than a century', ' that changed in 2013 however when a flurry of snakebite cases many of them fatal began to be reported with most of those killed farmers working in their fields', ' a 2018 study recorded 20 deaths due to russell’s viper bites between 2013 and 2016 and identified reports of bites from this species in 17 of bangladesh’s 64 districts', ' it attributed the snake’s “booming” population to improvements in irrigation systems which allowed farmers to cultivate crops on their fields throughout the year instead of only for part of the year as previously', ' that means that rats the viper’s prey of choice are also present in the fields yearround where they feed on the crops', '', 'the deaths caused by the bites of the deadly venomous russells viper commonly known as chandrabora in bangla are increasing alarmingly in all districts under the kushtia region specially in the districts surrounded by the rivers and farmlands', ' a vipers bite can spread poison throughout the body and cause various physical symptoms including loss of control of limbs continuous bleeding blood clots nerve damage paralysis and kidney damage', '']\n",
            "[0.8231345396646949, 0.7069781837821503, 1.0610105472011804, 0.8234370521528457, 0.9595918589147535, 0.9796358177080238, 0.0, 0.9291412623856193, 1.0481142328472257, 1.05045098836828, 0.958922388132952, 0.8745162831405328, 0.9485943245400694, 1.0219003296577727, 0.0, 1.1402136441368371, 1.3235385282861696, 1.1564010740232247, 1.2544512481786714, 1.287458256776764, 1.2824195938715386, 1.5080716354070591, 1.056874518028857, 1.2320009389135866, 0.0, 0.9368384956125653, 0.9822179802817472, 0.8671935843259257, 1.0054557682489265, 0.8935496341235183, 0.9076210470306808, 0.0, 0.32010403271697196, 0.337887590090137, 0.0]\n"
          ]
        }
      ],
      "source": [
        "def merge_matrices(*matrices):\n",
        "    mat = [[], []]\n",
        "\n",
        "    for matrix in matrices:\n",
        "        mat[0].extend(matrix[0])\n",
        "        mat[1].extend(matrix[1])\n",
        "\n",
        "    return mat\n",
        "\n",
        "mat = merge_matrices(MD0, MD1, MD2, MD3, MD4)\n",
        "\n",
        "print('\\033[1m' + '\\033[93m'+ 'mat : ' + '\\033[0m')\n",
        "for row in mat:\n",
        "    print(row)"
      ]
    },
    {
      "cell_type": "markdown",
      "metadata": {
        "id": "inSOVabqPfyq"
      },
      "source": [
        "### 3.2 Reverse sort the matrix based on the score(TF-IDF values)."
      ]
    },
    {
      "cell_type": "code",
      "execution_count": 25,
      "metadata": {
        "colab": {
          "base_uri": "https://localhost:8080/"
        },
        "id": "363E2IVVhtya",
        "outputId": "e9607baa-a79e-42e1-db2b-c6c008f2420d"
      },
      "outputs": [
        {
          "output_type": "stream",
          "name": "stdout",
          "text": [
            "Reversed Sorted Matrix\n",
            "Sentence:  most victims survive if treated with antivenom quickly \n",
            " Score: 1.5080716354070591\n",
            "Sentence:  health minister dr samanta lal sen also urged the public to bring snake bite victims to hospitals as soon as possible \n",
            " Score: 1.3235385282861696\n",
            "Sentence:  as it feeds on rodents the russells viper is often found near human settlements and in farmland particularly during harvest season \n",
            " Score: 1.287458256776764\n",
            "Sentence:  a 2023 study said about 7000 people die in bangladesh every year from snake bites \n",
            " Score: 1.2824195938715386\n",
            "Sentence:  the incidents have been a major topic on bangladeshi social media in recent weeks \n",
            " Score: 1.2544512481786714\n",
            "Sentence:  scientists believe the snake which usually lives found in dry areas has adapted to different climate conditions and has now spread to more than 25 districts in bangladesh \n",
            " Score: 1.2320009389135866\n",
            "Sentence:  hospitals in rural bangladesh have reported an increase in people being bitten by snakes especially by the russells viper which is found in south asia \n",
            " Score: 1.1564010740232247\n",
            "Sentence: all health centres and hospitals in bangladesh have been ordered to stock antivenom after reports of a surge in snake bites across the country \n",
            " Score: 1.1402136441368371\n",
            "Sentence:  a viper’s bite can spread poison throughout the body and cause various physical symptoms including loss of control of limbs continuous bleeding blood clots nerve damage paralysis and kidney damage \n",
            " Score: 1.0610105472011804\n",
            "Sentence:  the russells viper was declared extinct in bangladesh in 2002 but the species has now returned \n",
            " Score: 1.056874518028857\n",
            "Sentence:  articles and videos try to establish that the russells viper is not native to bangladesh but is rather slithering its way here from neighbouring countries \n",
            " Score: 1.05045098836828\n",
            "Sentence:  in these stories many circulated by different media outlets its claimed that unlike most snakes this one is hellbent on biting people and even gives chase to do so \n",
            " Score: 1.0481142328472257\n",
            "Sentence:  amid this mass panic it has become imperative to verify such information as many of the facts being circulated fall in the realm of misinformation \n",
            " Score: 1.0219003296577727\n",
            "Sentence:  a 2018 study recorded 20 deaths due to russell’s viper bites between 2013 and 2016 and identified reports of bites from this species in 17 of bangladesh’s 64 districts \n",
            " Score: 1.0054557682489265\n",
            "Sentence:  russell’s viper daboia russelii is responsible for nearly half of snakebites in neighboring india but in bangladesh where it’s known as chandra bora it was thought to be an exceedingly rare species for more than a century \n",
            " Score: 0.9822179802817472\n",
            "Sentence:  dr md abdul wahed chowdhury coinvestigator of the venom research centre bangladesh or vrc has a theory about why this particular breed of snake is proliferating again \n",
            " Score: 0.9796358177080238\n",
            "Sentence:  however since 2012 people in the countryside of rajshahi and chapainawabganj as well as in the rajbari faridpur kushtia and patuakhali districts have spotted fullygrown russell’s vipers and snakelets in their farmland and sometimes even in their households \n",
            " Score: 0.9595918589147535\n",
            "Sentence:  apparently the snake which disappeared from the country at one point has proliferated and is targeting farmers in the fields and the available antivenoms can barely cure 20 percent of people \n",
            " Score: 0.958922388132952\n",
            "Sentence:  in many areas monetary rewards are being declared to kill the snake which has unfortunately led to people beating pythons to death mistaking them for the viper \n",
            " Score: 0.9485943245400694\n",
            "Sentence: one of the deadliest snakes on the indian subcontinent is growing increasingly common in bangladesh spurring questions about the country’s preparedness to deal with venomous snakes in general \n",
            " Score: 0.9368384956125653\n",
            "Sentence: a series of stories have been making rounds on social media of people dying in different parts of bangladesh from the bite of the russells viper a venomous snake \n",
            " Score: 0.9291412623856193\n",
            "Sentence:  that means that rats the viper’s prey of choice are also present in the fields yearround where they feed on the crops \n",
            " Score: 0.9076210470306808\n",
            "Sentence:  it attributed the snake’s “booming” population to improvements in irrigation systems which allowed farmers to cultivate crops on their fields throughout the year instead of only for part of the year as previously \n",
            " Score: 0.8935496341235183\n",
            "Sentence:  so naturally people are now in fear of getting attacked by the viper \n",
            " Score: 0.8745162831405328\n",
            "Sentence:  that changed in 2013 however when a flurry of snakebite cases many of them fatal began to be reported with most of those killed farmers working in their fields \n",
            " Score: 0.8671935843259257\n",
            "Sentence:  locally say that urbanisation in the northern part of the country nearly wiped out russell’s viper a decade ago \n",
            " Score: 0.8234370521528457\n",
            "Sentence: a breed of venomous snake considered an endangered species in bangladesh even a decade ago has made a fullfledged comeback in the northern and southeast parts of the country wreaking havoc on public life \n",
            " Score: 0.8231345396646949\n",
            "Sentence: the snake russell’s viper or chandrabora in bengali vernacular is the most venomous snake in bangladesh \n",
            " Score: 0.7069781837821503\n",
            "Sentence:  a vipers bite can spread poison throughout the body and cause various physical symptoms including loss of control of limbs continuous bleeding blood clots nerve damage paralysis and kidney damage \n",
            " Score: 0.337887590090137\n",
            "Sentence: the deaths caused by the bites of the deadly venomous russells viper commonly known as chandrabora in bangla are increasing alarmingly in all districts under the kushtia region specially in the districts surrounded by the rivers and farmlands \n",
            " Score: 0.32010403271697196\n",
            "Sentence:  \n",
            " Score: 0.0\n",
            "Sentence:  \n",
            " Score: 0.0\n",
            "Sentence:  \n",
            " Score: 0.0\n",
            "Sentence:  \n",
            " Score: 0.0\n",
            "Sentence:  \n",
            " Score: 0.0\n"
          ]
        }
      ],
      "source": [
        "def sort_matrix_by_scores(mat):\n",
        "    # Combine sentences and their scores into tuples\n",
        "    combined = list(zip(mat[0], mat[1]))\n",
        "\n",
        "    # Sort in descending order\n",
        "    sorted_combined = sorted(combined, key=lambda x: x[1], reverse=True)\n",
        "\n",
        "    # Separate the sorted sentences and scores back into two lists\n",
        "    sorted_sentences, sorted_scores = zip(*sorted_combined)\n",
        "\n",
        "    return [list(sorted_sentences), list(sorted_scores)]\n",
        "\n",
        "sorted_mat = sort_matrix_by_scores(mat)\n",
        "\n",
        "print(\"Reversed Sorted Matrix\")\n",
        "for sentence, score in zip(sorted_mat[0], sorted_mat[1]):\n",
        "    print(f\"Sentence: {sentence} \\n Score: {score}\")"
      ]
    },
    {
      "cell_type": "markdown",
      "metadata": {
        "id": "jiyzfzehPz35"
      },
      "source": [
        "### 3.3 Summary Extraction"
      ]
    },
    {
      "cell_type": "code",
      "execution_count": 26,
      "metadata": {
        "colab": {
          "base_uri": "https://localhost:8080/"
        },
        "id": "AO4A7v0VjpEe",
        "outputId": "05e0c412-369f-49cf-fc03-167d5992fce8"
      },
      "outputs": [
        {
          "output_type": "stream",
          "name": "stdout",
          "text": [
            "Enter size of your summary: 5\n",
            "\n",
            " 5 lines sized summary: \n",
            "\n",
            " most victims survive if treated with antivenom quickly\n",
            " health minister dr samanta lal sen also urged the public to bring snake bite victims to hospitals as soon as possible\n",
            " as it feeds on rodents the russells viper is often found near human settlements and in farmland particularly during harvest season\n",
            " a 2023 study said about 7000 people die in bangladesh every year from snake bites\n",
            " the incidents have been a major topic on bangladeshi social media in recent weeks\n"
          ]
        }
      ],
      "source": [
        "def print_first_n_columns(matrix, n):\n",
        "    for i in range(min(n, len(matrix[0]))):\n",
        "        print(f\"{matrix[0][i]}\")\n",
        "\n",
        "n = int(input(\"Enter size of your summary: \"))\n",
        "\n",
        "print(f\"\\n {n} lines sized summary: \\n\")\n",
        "\n",
        "print_first_n_columns(sorted_mat, n)"
      ]
    }
  ],
  "metadata": {
    "colab": {
      "provenance": [],
      "toc_visible": true
    },
    "kernelspec": {
      "display_name": "Python 3",
      "name": "python3"
    },
    "language_info": {
      "name": "python",
      "version": "3.12.2"
    }
  },
  "nbformat": 4,
  "nbformat_minor": 0
}